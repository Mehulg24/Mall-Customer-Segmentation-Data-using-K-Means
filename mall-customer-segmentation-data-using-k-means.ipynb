{
 "cells": [
  {
   "cell_type": "code",
   "execution_count": 1,
   "metadata": {
    "_cell_guid": "b1076dfc-b9ad-4769-8c92-a6c4dae69d19",
    "_uuid": "8f2839f25d086af736a60e9eeb907d3b93b6e0e5",
    "execution": {
     "iopub.execute_input": "2021-01-14T15:33:05.570332Z",
     "iopub.status.busy": "2021-01-14T15:33:05.569606Z",
     "iopub.status.idle": "2021-01-14T15:33:05.586275Z",
     "shell.execute_reply": "2021-01-14T15:33:05.585505Z"
    },
    "papermill": {
     "duration": 0.044039,
     "end_time": "2021-01-14T15:33:05.586396",
     "exception": false,
     "start_time": "2021-01-14T15:33:05.542357",
     "status": "completed"
    },
    "tags": []
   },
   "outputs": [
    {
     "name": "stdout",
     "output_type": "stream",
     "text": [
      "/kaggle/input/customer-segmentation-tutorial-in-python/Mall_Customers.csv\n"
     ]
    }
   ],
   "source": [
    "# This Python 3 environment comes with many helpful analytics libraries installed\n",
    "# It is defined by the kaggle/python Docker image: https://github.com/kaggle/docker-python\n",
    "# For example, here's several helpful packages to load\n",
    "\n",
    "import numpy as np # linear algebra\n",
    "import pandas as pd # data processing, CSV file I/O (e.g. pd.read_csv)\n",
    "\n",
    "# Input data files are available in the read-only \"../input/\" directory\n",
    "# For example, running this (by clicking run or pressing Shift+Enter) will list all files under the input directory\n",
    "\n",
    "import os\n",
    "for dirname, _, filenames in os.walk('/kaggle/input'):\n",
    "    for filename in filenames:\n",
    "        print(os.path.join(dirname, filename))\n",
    "\n",
    "# You can write up to 20GB to the current directory (/kaggle/working/) that gets preserved as output when you create a version using \"Save & Run All\" \n",
    "# You can also write temporary files to /kaggle/temp/, but they won't be saved outside of the current session"
   ]
  },
  {
   "cell_type": "code",
   "execution_count": 2,
   "metadata": {
    "_cell_guid": "79c7e3d0-c299-4dcb-8224-4455121ee9b0",
    "_uuid": "d629ff2d2480ee46fbb7e2d37f6b5fab8052498a",
    "execution": {
     "iopub.execute_input": "2021-01-14T15:33:05.632376Z",
     "iopub.status.busy": "2021-01-14T15:33:05.631690Z",
     "iopub.status.idle": "2021-01-14T15:33:05.634594Z",
     "shell.execute_reply": "2021-01-14T15:33:05.634014Z"
    },
    "papermill": {
     "duration": 0.027623,
     "end_time": "2021-01-14T15:33:05.634703",
     "exception": false,
     "start_time": "2021-01-14T15:33:05.607080",
     "status": "completed"
    },
    "tags": []
   },
   "outputs": [],
   "source": [
    "## For data manupilation\n",
    "import numpy as np\n",
    "import pandas as pd\n",
    "# For os\n",
    "#import os\n",
    "# remove warning\n",
    "import warnings\n",
    "warnings.filterwarnings(\"ignore\")"
   ]
  },
  {
   "cell_type": "code",
   "execution_count": 3,
   "metadata": {
    "execution": {
     "iopub.execute_input": "2021-01-14T15:33:05.679026Z",
     "iopub.status.busy": "2021-01-14T15:33:05.678403Z",
     "iopub.status.idle": "2021-01-14T15:33:05.681969Z",
     "shell.execute_reply": "2021-01-14T15:33:05.681345Z"
    },
    "papermill": {
     "duration": 0.027203,
     "end_time": "2021-01-14T15:33:05.682080",
     "exception": false,
     "start_time": "2021-01-14T15:33:05.654877",
     "status": "completed"
    },
    "tags": []
   },
   "outputs": [],
   "source": [
    "#os.chdir(\"D:\\\\data analyst data\\\\download data\\\\Mall Customer Segmentation Data\")\n",
    "#os.listdir()\n"
   ]
  },
  {
   "cell_type": "code",
   "execution_count": 4,
   "metadata": {
    "execution": {
     "iopub.execute_input": "2021-01-14T15:33:05.728833Z",
     "iopub.status.busy": "2021-01-14T15:33:05.728064Z",
     "iopub.status.idle": "2021-01-14T15:33:05.760981Z",
     "shell.execute_reply": "2021-01-14T15:33:05.761470Z"
    },
    "papermill": {
     "duration": 0.059523,
     "end_time": "2021-01-14T15:33:05.761618",
     "exception": false,
     "start_time": "2021-01-14T15:33:05.702095",
     "status": "completed"
    },
    "tags": []
   },
   "outputs": [
    {
     "data": {
      "text/html": [
       "<div>\n",
       "<style scoped>\n",
       "    .dataframe tbody tr th:only-of-type {\n",
       "        vertical-align: middle;\n",
       "    }\n",
       "\n",
       "    .dataframe tbody tr th {\n",
       "        vertical-align: top;\n",
       "    }\n",
       "\n",
       "    .dataframe thead th {\n",
       "        text-align: right;\n",
       "    }\n",
       "</style>\n",
       "<table border=\"1\" class=\"dataframe\">\n",
       "  <thead>\n",
       "    <tr style=\"text-align: right;\">\n",
       "      <th></th>\n",
       "      <th>CustomerID</th>\n",
       "      <th>Gender</th>\n",
       "      <th>Age</th>\n",
       "      <th>Annual Income (k$)</th>\n",
       "      <th>Spending Score (1-100)</th>\n",
       "    </tr>\n",
       "  </thead>\n",
       "  <tbody>\n",
       "    <tr>\n",
       "      <th>0</th>\n",
       "      <td>1</td>\n",
       "      <td>Male</td>\n",
       "      <td>19</td>\n",
       "      <td>15</td>\n",
       "      <td>39</td>\n",
       "    </tr>\n",
       "    <tr>\n",
       "      <th>1</th>\n",
       "      <td>2</td>\n",
       "      <td>Male</td>\n",
       "      <td>21</td>\n",
       "      <td>15</td>\n",
       "      <td>81</td>\n",
       "    </tr>\n",
       "    <tr>\n",
       "      <th>2</th>\n",
       "      <td>3</td>\n",
       "      <td>Female</td>\n",
       "      <td>20</td>\n",
       "      <td>16</td>\n",
       "      <td>6</td>\n",
       "    </tr>\n",
       "    <tr>\n",
       "      <th>3</th>\n",
       "      <td>4</td>\n",
       "      <td>Female</td>\n",
       "      <td>23</td>\n",
       "      <td>16</td>\n",
       "      <td>77</td>\n",
       "    </tr>\n",
       "    <tr>\n",
       "      <th>4</th>\n",
       "      <td>5</td>\n",
       "      <td>Female</td>\n",
       "      <td>31</td>\n",
       "      <td>17</td>\n",
       "      <td>40</td>\n",
       "    </tr>\n",
       "  </tbody>\n",
       "</table>\n",
       "</div>"
      ],
      "text/plain": [
       "   CustomerID  Gender  Age  Annual Income (k$)  Spending Score (1-100)\n",
       "0           1    Male   19                  15                      39\n",
       "1           2    Male   21                  15                      81\n",
       "2           3  Female   20                  16                       6\n",
       "3           4  Female   23                  16                      77\n",
       "4           5  Female   31                  17                      40"
      ]
     },
     "execution_count": 4,
     "metadata": {},
     "output_type": "execute_result"
    }
   ],
   "source": [
    "df = pd.read_csv('../input/customer-segmentation-tutorial-in-python/Mall_Customers.csv')\n",
    "df.head() "
   ]
  },
  {
   "cell_type": "code",
   "execution_count": 5,
   "metadata": {
    "execution": {
     "iopub.execute_input": "2021-01-14T15:33:05.811841Z",
     "iopub.status.busy": "2021-01-14T15:33:05.810803Z",
     "iopub.status.idle": "2021-01-14T15:33:05.815323Z",
     "shell.execute_reply": "2021-01-14T15:33:05.814771Z"
    },
    "papermill": {
     "duration": 0.032843,
     "end_time": "2021-01-14T15:33:05.815432",
     "exception": false,
     "start_time": "2021-01-14T15:33:05.782589",
     "status": "completed"
    },
    "tags": []
   },
   "outputs": [
    {
     "data": {
      "text/plain": [
       "CustomerID                0\n",
       "Gender                    0\n",
       "Age                       0\n",
       "Annual Income (k$)        0\n",
       "Spending Score (1-100)    0\n",
       "dtype: int64"
      ]
     },
     "execution_count": 5,
     "metadata": {},
     "output_type": "execute_result"
    }
   ],
   "source": [
    "df.isnull().sum() # checking if there is any null value "
   ]
  },
  {
   "cell_type": "code",
   "execution_count": 6,
   "metadata": {
    "execution": {
     "iopub.execute_input": "2021-01-14T15:33:05.862744Z",
     "iopub.status.busy": "2021-01-14T15:33:05.862061Z",
     "iopub.status.idle": "2021-01-14T15:33:05.865957Z",
     "shell.execute_reply": "2021-01-14T15:33:05.865442Z"
    },
    "papermill": {
     "duration": 0.030066,
     "end_time": "2021-01-14T15:33:05.866065",
     "exception": false,
     "start_time": "2021-01-14T15:33:05.835999",
     "status": "completed"
    },
    "tags": []
   },
   "outputs": [],
   "source": [
    "df.rename(columns= {'Annual Income (k$)' : 'Annual_Income', 'Spending Score (1-100)' : 'Spending_Score'}, inplace = True)"
   ]
  },
  {
   "cell_type": "code",
   "execution_count": 7,
   "metadata": {
    "execution": {
     "iopub.execute_input": "2021-01-14T15:33:05.915885Z",
     "iopub.status.busy": "2021-01-14T15:33:05.915249Z",
     "iopub.status.idle": "2021-01-14T15:33:05.918567Z",
     "shell.execute_reply": "2021-01-14T15:33:05.917938Z"
    },
    "papermill": {
     "duration": 0.031108,
     "end_time": "2021-01-14T15:33:05.918710",
     "exception": false,
     "start_time": "2021-01-14T15:33:05.887602",
     "status": "completed"
    },
    "tags": []
   },
   "outputs": [],
   "source": [
    "df.drop('CustomerID', axis = 1 ,inplace = True)"
   ]
  },
  {
   "cell_type": "code",
   "execution_count": 8,
   "metadata": {
    "execution": {
     "iopub.execute_input": "2021-01-14T15:33:05.969287Z",
     "iopub.status.busy": "2021-01-14T15:33:05.968344Z",
     "iopub.status.idle": "2021-01-14T15:33:05.972854Z",
     "shell.execute_reply": "2021-01-14T15:33:05.972191Z"
    },
    "papermill": {
     "duration": 0.03327,
     "end_time": "2021-01-14T15:33:05.972972",
     "exception": false,
     "start_time": "2021-01-14T15:33:05.939702",
     "status": "completed"
    },
    "tags": []
   },
   "outputs": [
    {
     "data": {
      "text/plain": [
       "Gender            object\n",
       "Age                int64\n",
       "Annual_Income      int64\n",
       "Spending_Score     int64\n",
       "dtype: object"
      ]
     },
     "execution_count": 8,
     "metadata": {},
     "output_type": "execute_result"
    }
   ],
   "source": [
    "df.dtypes # checking data type "
   ]
  },
  {
   "cell_type": "code",
   "execution_count": 9,
   "metadata": {
    "execution": {
     "iopub.execute_input": "2021-01-14T15:33:06.021853Z",
     "iopub.status.busy": "2021-01-14T15:33:06.021026Z",
     "iopub.status.idle": "2021-01-14T15:33:06.024336Z",
     "shell.execute_reply": "2021-01-14T15:33:06.024804Z"
    },
    "papermill": {
     "duration": 0.030096,
     "end_time": "2021-01-14T15:33:06.024937",
     "exception": false,
     "start_time": "2021-01-14T15:33:05.994841",
     "status": "completed"
    },
    "tags": []
   },
   "outputs": [
    {
     "data": {
      "text/plain": [
       "(200, 4)"
      ]
     },
     "execution_count": 9,
     "metadata": {},
     "output_type": "execute_result"
    }
   ],
   "source": [
    "df.shape #checking shape of data "
   ]
  },
  {
   "cell_type": "code",
   "execution_count": 10,
   "metadata": {
    "execution": {
     "iopub.execute_input": "2021-01-14T15:33:06.072519Z",
     "iopub.status.busy": "2021-01-14T15:33:06.071578Z",
     "iopub.status.idle": "2021-01-14T15:33:06.076752Z",
     "shell.execute_reply": "2021-01-14T15:33:06.077182Z"
    },
    "papermill": {
     "duration": 0.03073,
     "end_time": "2021-01-14T15:33:06.077320",
     "exception": false,
     "start_time": "2021-01-14T15:33:06.046590",
     "status": "completed"
    },
    "tags": []
   },
   "outputs": [
    {
     "data": {
      "text/plain": [
       "array(['Gender', 'Age', 'Annual_Income', 'Spending_Score'], dtype=object)"
      ]
     },
     "execution_count": 10,
     "metadata": {},
     "output_type": "execute_result"
    }
   ],
   "source": [
    "df.columns.values #checking columns "
   ]
  },
  {
   "cell_type": "code",
   "execution_count": 11,
   "metadata": {
    "execution": {
     "iopub.execute_input": "2021-01-14T15:33:06.129408Z",
     "iopub.status.busy": "2021-01-14T15:33:06.128298Z",
     "iopub.status.idle": "2021-01-14T15:33:07.586800Z",
     "shell.execute_reply": "2021-01-14T15:33:07.585441Z"
    },
    "papermill": {
     "duration": 1.486384,
     "end_time": "2021-01-14T15:33:07.586946",
     "exception": false,
     "start_time": "2021-01-14T15:33:06.100562",
     "status": "completed"
    },
    "tags": []
   },
   "outputs": [],
   "source": [
    "# For creating colormaps\n",
    "import matplotlib.pyplot as plt\n",
    "import seaborn as sns\n",
    "# for clustering \n",
    "from sklearn.cluster import KMeans\n",
    "import time  # Measuring process time\n",
    "from sklearn.preprocessing import StandardScaler #  For data processing\n",
    "from sklearn.model_selection import train_test_split\n",
    "from sklearn.tree import DecisionTreeClassifier as dt"
   ]
  },
  {
   "cell_type": "code",
   "execution_count": 12,
   "metadata": {
    "execution": {
     "iopub.execute_input": "2021-01-14T15:33:07.638493Z",
     "iopub.status.busy": "2021-01-14T15:33:07.637580Z",
     "iopub.status.idle": "2021-01-14T15:33:07.641876Z",
     "shell.execute_reply": "2021-01-14T15:33:07.641338Z"
    },
    "papermill": {
     "duration": 0.032556,
     "end_time": "2021-01-14T15:33:07.641994",
     "exception": false,
     "start_time": "2021-01-14T15:33:07.609438",
     "status": "completed"
    },
    "tags": []
   },
   "outputs": [
    {
     "data": {
      "text/plain": [
       "(18, 70)"
      ]
     },
     "execution_count": 12,
     "metadata": {},
     "output_type": "execute_result"
    }
   ],
   "source": [
    "np.min(df.Age), np.max(df.Age)"
   ]
  },
  {
   "cell_type": "code",
   "execution_count": 13,
   "metadata": {
    "execution": {
     "iopub.execute_input": "2021-01-14T15:33:07.693323Z",
     "iopub.status.busy": "2021-01-14T15:33:07.692290Z",
     "iopub.status.idle": "2021-01-14T15:33:07.902626Z",
     "shell.execute_reply": "2021-01-14T15:33:07.901965Z"
    },
    "papermill": {
     "duration": 0.237998,
     "end_time": "2021-01-14T15:33:07.902748",
     "exception": false,
     "start_time": "2021-01-14T15:33:07.664750",
     "status": "completed"
    },
    "tags": []
   },
   "outputs": [
    {
     "data": {
      "text/plain": [
       "<matplotlib.axes._subplots.AxesSubplot at 0x7ff67fb539d0>"
      ]
     },
     "execution_count": 13,
     "metadata": {},
     "output_type": "execute_result"
    },
    {
     "data": {
      "image/png": "[encoded data removed]",
      "text/plain": [
       "<Figure size 432x288 with 1 Axes>"
      ]
     },
     "metadata": {
      "needs_background": "light"
     },
     "output_type": "display_data"
    }
   ],
   "source": [
    "sns.distplot(df.Age) # diagrams "
   ]
  },
  {
   "cell_type": "code",
   "execution_count": 14,
   "metadata": {
    "execution": {
     "iopub.execute_input": "2021-01-14T15:33:07.962469Z",
     "iopub.status.busy": "2021-01-14T15:33:07.960237Z",
     "iopub.status.idle": "2021-01-14T15:33:08.116737Z",
     "shell.execute_reply": "2021-01-14T15:33:08.116032Z"
    },
    "papermill": {
     "duration": 0.190109,
     "end_time": "2021-01-14T15:33:08.116874",
     "exception": false,
     "start_time": "2021-01-14T15:33:07.926765",
     "status": "completed"
    },
    "tags": []
   },
   "outputs": [
    {
     "data": {
      "text/plain": [
       "<matplotlib.axes._subplots.AxesSubplot at 0x7ff67373f410>"
      ]
     },
     "execution_count": 14,
     "metadata": {},
     "output_type": "execute_result"
    },
    {
     "data": {
      "image/png": "[encoded data removed]",
      "text/plain": [
       "<Figure size 432x288 with 1 Axes>"
      ]
     },
     "metadata": {
      "needs_background": "light"
     },
     "output_type": "display_data"
    }
   ],
   "source": [
    "sns.distplot(df.Annual_Income)"
   ]
  },
  {
   "cell_type": "code",
   "execution_count": 15,
   "metadata": {
    "execution": {
     "iopub.execute_input": "2021-01-14T15:33:08.266746Z",
     "iopub.status.busy": "2021-01-14T15:33:08.265934Z",
     "iopub.status.idle": "2021-01-14T15:33:08.427954Z",
     "shell.execute_reply": "2021-01-14T15:33:08.427394Z"
    },
    "papermill": {
     "duration": 0.285003,
     "end_time": "2021-01-14T15:33:08.428067",
     "exception": false,
     "start_time": "2021-01-14T15:33:08.143064",
     "status": "completed"
    },
    "tags": []
   },
   "outputs": [
    {
     "data": {
      "text/plain": [
       "<matplotlib.axes._subplots.AxesSubplot at 0x7ff6736c6b50>"
      ]
     },
     "execution_count": 15,
     "metadata": {},
     "output_type": "execute_result"
    },
    {
     "data": {
      "image/png": "[encoded data removed]",
      "text/plain": [
       "<Figure size 432x288 with 1 Axes>"
      ]
     },
     "metadata": {
      "needs_background": "light"
     },
     "output_type": "display_data"
    }
   ],
   "source": [
    "sns.distplot(df.Spending_Score)"
   ]
  },
  {
   "cell_type": "code",
   "execution_count": 16,
   "metadata": {
    "execution": {
     "iopub.execute_input": "2021-01-14T15:33:08.486535Z",
     "iopub.status.busy": "2021-01-14T15:33:08.485557Z",
     "iopub.status.idle": "2021-01-14T15:33:09.109403Z",
     "shell.execute_reply": "2021-01-14T15:33:09.109852Z"
    },
    "papermill": {
     "duration": 0.655486,
     "end_time": "2021-01-14T15:33:09.110013",
     "exception": false,
     "start_time": "2021-01-14T15:33:08.454527",
     "status": "completed"
    },
    "tags": []
   },
   "outputs": [
    {
     "data": {
      "text/plain": [
       "<seaborn.axisgrid.JointGrid at 0x7ff673745e10>"
      ]
     },
     "execution_count": 16,
     "metadata": {},
     "output_type": "execute_result"
    },
    {
     "data": {
      "image/png": "[encoded data removed]",
      "text/plain": [
       "<Figure size 432x432 with 3 Axes>"
      ]
     },
     "metadata": {
      "needs_background": "light"
     },
     "output_type": "display_data"
    }
   ],
   "source": [
    "sns.jointplot(df.Age, df.Spending_Score)"
   ]
  },
  {
   "cell_type": "code",
   "execution_count": 17,
   "metadata": {
    "execution": {
     "iopub.execute_input": "2021-01-14T15:33:09.175890Z",
     "iopub.status.busy": "2021-01-14T15:33:09.170717Z",
     "iopub.status.idle": "2021-01-14T15:33:10.434676Z",
     "shell.execute_reply": "2021-01-14T15:33:10.433704Z"
    },
    "papermill": {
     "duration": 1.297346,
     "end_time": "2021-01-14T15:33:10.434807",
     "exception": false,
     "start_time": "2021-01-14T15:33:09.137461",
     "status": "completed"
    },
    "tags": []
   },
   "outputs": [
    {
     "data": {
      "text/plain": [
       "<seaborn.axisgrid.JointGrid at 0x7ff6735a8390>"
      ]
     },
     "execution_count": 17,
     "metadata": {},
     "output_type": "execute_result"
    },
    {
     "data": {
      "image/png": "[encoded data removed]",
      "text/plain": [
       "<Figure size 432x432 with 3 Axes>"
      ]
     },
     "metadata": {
      "needs_background": "light"
     },
     "output_type": "display_data"
    }
   ],
   "source": [
    "sns.jointplot(df.Annual_Income, df.Age , kind=\"kde\")"
   ]
  },
  {
   "cell_type": "code",
   "execution_count": 18,
   "metadata": {
    "execution": {
     "iopub.execute_input": "2021-01-14T15:33:10.504273Z",
     "iopub.status.busy": "2021-01-14T15:33:10.503627Z",
     "iopub.status.idle": "2021-01-14T15:33:11.104754Z",
     "shell.execute_reply": "2021-01-14T15:33:11.103975Z"
    },
    "papermill": {
     "duration": 0.641714,
     "end_time": "2021-01-14T15:33:11.104922",
     "exception": false,
     "start_time": "2021-01-14T15:33:10.463208",
     "status": "completed"
    },
    "tags": []
   },
   "outputs": [
    {
     "data": {
      "text/plain": [
       "<seaborn.axisgrid.JointGrid at 0x7ff6733c40d0>"
      ]
     },
     "execution_count": 18,
     "metadata": {},
     "output_type": "execute_result"
    },
    {
     "data": {
      "image/png": "[encoded data removed]",
      "text/plain": [
       "<Figure size 432x432 with 3 Axes>"
      ]
     },
     "metadata": {
      "needs_background": "light"
     },
     "output_type": "display_data"
    }
   ],
   "source": [
    "sns.jointplot(df.Annual_Income, df.Age , kind=\"hex\")"
   ]
  },
  {
   "cell_type": "code",
   "execution_count": 19,
   "metadata": {
    "execution": {
     "iopub.execute_input": "2021-01-14T15:33:11.177754Z",
     "iopub.status.busy": "2021-01-14T15:33:11.172717Z",
     "iopub.status.idle": "2021-01-14T15:33:11.926401Z",
     "shell.execute_reply": "2021-01-14T15:33:11.926915Z"
    },
    "papermill": {
     "duration": 0.792614,
     "end_time": "2021-01-14T15:33:11.927054",
     "exception": false,
     "start_time": "2021-01-14T15:33:11.134440",
     "status": "completed"
    },
    "tags": []
   },
   "outputs": [
    {
     "data": {
      "text/plain": [
       "<seaborn.axisgrid.JointGrid at 0x7ff6732ab110>"
      ]
     },
     "execution_count": 19,
     "metadata": {},
     "output_type": "execute_result"
    },
    {
     "data": {
      "image/png": "[encoded data removed]",
      "text/plain": [
       "<Figure size 432x432 with 3 Axes>"
      ]
     },
     "metadata": {
      "needs_background": "light"
     },
     "output_type": "display_data"
    }
   ],
   "source": [
    "sns.jointplot(df.Annual_Income, df.Age , kind=\"reg\")"
   ]
  },
  {
   "cell_type": "code",
   "execution_count": 20,
   "metadata": {
    "execution": {
     "iopub.execute_input": "2021-01-14T15:33:11.994379Z",
     "iopub.status.busy": "2021-01-14T15:33:11.993737Z",
     "iopub.status.idle": "2021-01-14T15:33:12.014049Z",
     "shell.execute_reply": "2021-01-14T15:33:12.014665Z"
    },
    "papermill": {
     "duration": 0.056312,
     "end_time": "2021-01-14T15:33:12.014804",
     "exception": false,
     "start_time": "2021-01-14T15:33:11.958492",
     "status": "completed"
    },
    "tags": []
   },
   "outputs": [
    {
     "data": {
      "text/html": [
       "<div>\n",
       "<style scoped>\n",
       "    .dataframe tbody tr th:only-of-type {\n",
       "        vertical-align: middle;\n",
       "    }\n",
       "\n",
       "    .dataframe tbody tr th {\n",
       "        vertical-align: top;\n",
       "    }\n",
       "\n",
       "    .dataframe thead th {\n",
       "        text-align: right;\n",
       "    }\n",
       "</style>\n",
       "<table border=\"1\" class=\"dataframe\">\n",
       "  <thead>\n",
       "    <tr style=\"text-align: right;\">\n",
       "      <th></th>\n",
       "      <th>Gender</th>\n",
       "      <th>Age</th>\n",
       "      <th>Annual_Income</th>\n",
       "      <th>Spending_Score</th>\n",
       "    </tr>\n",
       "  </thead>\n",
       "  <tbody>\n",
       "    <tr>\n",
       "      <th>0</th>\n",
       "      <td>Female</td>\n",
       "      <td>18</td>\n",
       "      <td>65</td>\n",
       "      <td>48</td>\n",
       "    </tr>\n",
       "    <tr>\n",
       "      <th>1</th>\n",
       "      <td>Female</td>\n",
       "      <td>19</td>\n",
       "      <td>128</td>\n",
       "      <td>104</td>\n",
       "    </tr>\n",
       "    <tr>\n",
       "      <th>2</th>\n",
       "      <td>Female</td>\n",
       "      <td>20</td>\n",
       "      <td>53</td>\n",
       "      <td>81</td>\n",
       "    </tr>\n",
       "    <tr>\n",
       "      <th>3</th>\n",
       "      <td>Female</td>\n",
       "      <td>21</td>\n",
       "      <td>179</td>\n",
       "      <td>253</td>\n",
       "    </tr>\n",
       "    <tr>\n",
       "      <th>4</th>\n",
       "      <td>Female</td>\n",
       "      <td>22</td>\n",
       "      <td>74</td>\n",
       "      <td>131</td>\n",
       "    </tr>\n",
       "    <tr>\n",
       "      <th>...</th>\n",
       "      <td>...</td>\n",
       "      <td>...</td>\n",
       "      <td>...</td>\n",
       "      <td>...</td>\n",
       "    </tr>\n",
       "    <tr>\n",
       "      <th>82</th>\n",
       "      <td>Male</td>\n",
       "      <td>66</td>\n",
       "      <td>63</td>\n",
       "      <td>48</td>\n",
       "    </tr>\n",
       "    <tr>\n",
       "      <th>83</th>\n",
       "      <td>Male</td>\n",
       "      <td>67</td>\n",
       "      <td>135</td>\n",
       "      <td>114</td>\n",
       "    </tr>\n",
       "    <tr>\n",
       "      <th>84</th>\n",
       "      <td>Male</td>\n",
       "      <td>68</td>\n",
       "      <td>63</td>\n",
       "      <td>43</td>\n",
       "    </tr>\n",
       "    <tr>\n",
       "      <th>85</th>\n",
       "      <td>Male</td>\n",
       "      <td>69</td>\n",
       "      <td>44</td>\n",
       "      <td>46</td>\n",
       "    </tr>\n",
       "    <tr>\n",
       "      <th>86</th>\n",
       "      <td>Male</td>\n",
       "      <td>70</td>\n",
       "      <td>95</td>\n",
       "      <td>111</td>\n",
       "    </tr>\n",
       "  </tbody>\n",
       "</table>\n",
       "<p>87 rows × 4 columns</p>\n",
       "</div>"
      ],
      "text/plain": [
       "    Gender  Age  Annual_Income  Spending_Score\n",
       "0   Female   18             65              48\n",
       "1   Female   19            128             104\n",
       "2   Female   20             53              81\n",
       "3   Female   21            179             253\n",
       "4   Female   22             74             131\n",
       "..     ...  ...            ...             ...\n",
       "82    Male   66             63              48\n",
       "83    Male   67            135             114\n",
       "84    Male   68             63              43\n",
       "85    Male   69             44              46\n",
       "86    Male   70             95             111\n",
       "\n",
       "[87 rows x 4 columns]"
      ]
     },
     "execution_count": 20,
     "metadata": {},
     "output_type": "execute_result"
    }
   ],
   "source": [
    "cust_group = df.groupby(['Gender','Age']).sum().reset_index()\n",
    "cust_group"
   ]
  },
  {
   "cell_type": "code",
   "execution_count": 21,
   "metadata": {
    "execution": {
     "iopub.execute_input": "2021-01-14T15:33:12.080896Z",
     "iopub.status.busy": "2021-01-14T15:33:12.080200Z",
     "iopub.status.idle": "2021-01-14T15:33:12.085316Z",
     "shell.execute_reply": "2021-01-14T15:33:12.085809Z"
    },
    "papermill": {
     "duration": 0.039859,
     "end_time": "2021-01-14T15:33:12.085950",
     "exception": false,
     "start_time": "2021-01-14T15:33:12.046091",
     "status": "completed"
    },
    "tags": []
   },
   "outputs": [
    {
     "data": {
      "text/plain": [
       "15"
      ]
     },
     "execution_count": 21,
     "metadata": {},
     "output_type": "execute_result"
    }
   ],
   "source": [
    "df['Annual_Income'].min()"
   ]
  },
  {
   "cell_type": "code",
   "execution_count": 22,
   "metadata": {
    "execution": {
     "iopub.execute_input": "2021-01-14T15:33:12.155357Z",
     "iopub.status.busy": "2021-01-14T15:33:12.154733Z",
     "iopub.status.idle": "2021-01-14T15:33:12.160814Z",
     "shell.execute_reply": "2021-01-14T15:33:12.160205Z"
    },
    "papermill": {
     "duration": 0.042105,
     "end_time": "2021-01-14T15:33:12.160925",
     "exception": false,
     "start_time": "2021-01-14T15:33:12.118820",
     "status": "completed"
    },
    "tags": []
   },
   "outputs": [
    {
     "data": {
      "text/plain": [
       "137"
      ]
     },
     "execution_count": 22,
     "metadata": {},
     "output_type": "execute_result"
    }
   ],
   "source": [
    "df['Annual_Income'].max()"
   ]
  },
  {
   "cell_type": "code",
   "execution_count": 23,
   "metadata": {
    "execution": {
     "iopub.execute_input": "2021-01-14T15:33:12.228512Z",
     "iopub.status.busy": "2021-01-14T15:33:12.227900Z",
     "iopub.status.idle": "2021-01-14T15:33:12.246205Z",
     "shell.execute_reply": "2021-01-14T15:33:12.245689Z"
    },
    "papermill": {
     "duration": 0.053233,
     "end_time": "2021-01-14T15:33:12.246320",
     "exception": false,
     "start_time": "2021-01-14T15:33:12.193087",
     "status": "completed"
    },
    "tags": []
   },
   "outputs": [
    {
     "data": {
      "text/html": [
       "<div>\n",
       "<style scoped>\n",
       "    .dataframe tbody tr th:only-of-type {\n",
       "        vertical-align: middle;\n",
       "    }\n",
       "\n",
       "    .dataframe tbody tr th {\n",
       "        vertical-align: top;\n",
       "    }\n",
       "\n",
       "    .dataframe thead th {\n",
       "        text-align: right;\n",
       "    }\n",
       "</style>\n",
       "<table border=\"1\" class=\"dataframe\">\n",
       "  <thead>\n",
       "    <tr style=\"text-align: right;\">\n",
       "      <th></th>\n",
       "      <th>Gender</th>\n",
       "      <th>Age</th>\n",
       "      <th>Annual_Income</th>\n",
       "      <th>Spending_Score</th>\n",
       "      <th>Annual_Income_cat</th>\n",
       "    </tr>\n",
       "  </thead>\n",
       "  <tbody>\n",
       "    <tr>\n",
       "      <th>0</th>\n",
       "      <td>Male</td>\n",
       "      <td>19</td>\n",
       "      <td>15</td>\n",
       "      <td>39</td>\n",
       "      <td>low</td>\n",
       "    </tr>\n",
       "    <tr>\n",
       "      <th>1</th>\n",
       "      <td>Male</td>\n",
       "      <td>21</td>\n",
       "      <td>15</td>\n",
       "      <td>81</td>\n",
       "      <td>low</td>\n",
       "    </tr>\n",
       "    <tr>\n",
       "      <th>2</th>\n",
       "      <td>Female</td>\n",
       "      <td>20</td>\n",
       "      <td>16</td>\n",
       "      <td>6</td>\n",
       "      <td>low</td>\n",
       "    </tr>\n",
       "    <tr>\n",
       "      <th>3</th>\n",
       "      <td>Female</td>\n",
       "      <td>23</td>\n",
       "      <td>16</td>\n",
       "      <td>77</td>\n",
       "      <td>low</td>\n",
       "    </tr>\n",
       "    <tr>\n",
       "      <th>4</th>\n",
       "      <td>Female</td>\n",
       "      <td>31</td>\n",
       "      <td>17</td>\n",
       "      <td>40</td>\n",
       "      <td>low</td>\n",
       "    </tr>\n",
       "    <tr>\n",
       "      <th>...</th>\n",
       "      <td>...</td>\n",
       "      <td>...</td>\n",
       "      <td>...</td>\n",
       "      <td>...</td>\n",
       "      <td>...</td>\n",
       "    </tr>\n",
       "    <tr>\n",
       "      <th>195</th>\n",
       "      <td>Female</td>\n",
       "      <td>35</td>\n",
       "      <td>120</td>\n",
       "      <td>79</td>\n",
       "      <td>high</td>\n",
       "    </tr>\n",
       "    <tr>\n",
       "      <th>196</th>\n",
       "      <td>Female</td>\n",
       "      <td>45</td>\n",
       "      <td>126</td>\n",
       "      <td>28</td>\n",
       "      <td>high</td>\n",
       "    </tr>\n",
       "    <tr>\n",
       "      <th>197</th>\n",
       "      <td>Male</td>\n",
       "      <td>32</td>\n",
       "      <td>126</td>\n",
       "      <td>74</td>\n",
       "      <td>high</td>\n",
       "    </tr>\n",
       "    <tr>\n",
       "      <th>198</th>\n",
       "      <td>Male</td>\n",
       "      <td>32</td>\n",
       "      <td>137</td>\n",
       "      <td>18</td>\n",
       "      <td>high</td>\n",
       "    </tr>\n",
       "    <tr>\n",
       "      <th>199</th>\n",
       "      <td>Male</td>\n",
       "      <td>30</td>\n",
       "      <td>137</td>\n",
       "      <td>83</td>\n",
       "      <td>high</td>\n",
       "    </tr>\n",
       "  </tbody>\n",
       "</table>\n",
       "<p>200 rows × 5 columns</p>\n",
       "</div>"
      ],
      "text/plain": [
       "     Gender  Age  Annual_Income  Spending_Score Annual_Income_cat\n",
       "0      Male   19             15              39               low\n",
       "1      Male   21             15              81               low\n",
       "2    Female   20             16               6               low\n",
       "3    Female   23             16              77               low\n",
       "4    Female   31             17              40               low\n",
       "..      ...  ...            ...             ...               ...\n",
       "195  Female   35            120              79              high\n",
       "196  Female   45            126              28              high\n",
       "197    Male   32            126              74              high\n",
       "198    Male   32            137              18              high\n",
       "199    Male   30            137              83              high\n",
       "\n",
       "[200 rows x 5 columns]"
      ]
     },
     "execution_count": 23,
     "metadata": {},
     "output_type": "execute_result"
    }
   ],
   "source": [
    "df['Annual_Income_cat'] = pd.cut(\n",
    "                       df['Annual_Income'],\n",
    "                       bins = 3,\n",
    "                       labels= ['low', 'medium','high']\n",
    "                      )\n",
    "df"
   ]
  },
  {
   "cell_type": "code",
   "execution_count": 24,
   "metadata": {
    "execution": {
     "iopub.execute_input": "2021-01-14T15:33:12.314855Z",
     "iopub.status.busy": "2021-01-14T15:33:12.314269Z",
     "iopub.status.idle": "2021-01-14T15:33:12.609120Z",
     "shell.execute_reply": "2021-01-14T15:33:12.609636Z"
    },
    "papermill": {
     "duration": 0.331043,
     "end_time": "2021-01-14T15:33:12.609897",
     "exception": false,
     "start_time": "2021-01-14T15:33:12.278854",
     "status": "completed"
    },
    "tags": []
   },
   "outputs": [
    {
     "data": {
      "text/plain": [
       "<matplotlib.axes._subplots.AxesSubplot at 0x7ff6735a83d0>"
      ]
     },
     "execution_count": 24,
     "metadata": {},
     "output_type": "execute_result"
    },
    {
     "data": {
      "image/png": "[encoded data removed]",
      "text/plain": [
       "<Figure size 720x720 with 1 Axes>"
      ]
     },
     "metadata": {
      "needs_background": "light"
     },
     "output_type": "display_data"
    }
   ],
   "source": [
    "plt.figure(1 , figsize = (10 , 10))\n",
    "sns.barplot(x = 'Annual_Income_cat', y = 'Age',hue = 'Gender', data = df, )"
   ]
  },
  {
   "cell_type": "code",
   "execution_count": 25,
   "metadata": {
    "execution": {
     "iopub.execute_input": "2021-01-14T15:33:12.681833Z",
     "iopub.status.busy": "2021-01-14T15:33:12.680825Z",
     "iopub.status.idle": "2021-01-14T15:33:13.573061Z",
     "shell.execute_reply": "2021-01-14T15:33:13.573539Z"
    },
    "papermill": {
     "duration": 0.92939,
     "end_time": "2021-01-14T15:33:13.573686",
     "exception": false,
     "start_time": "2021-01-14T15:33:12.644296",
     "status": "completed"
    },
    "tags": []
   },
   "outputs": [
    {
     "data": {
      "text/plain": [
       "<matplotlib.axes._subplots.AxesSubplot at 0x7ff67286afd0>"
      ]
     },
     "execution_count": 25,
     "metadata": {},
     "output_type": "execute_result"
    },
    {
     "data": {
      "image/png": "[encoded data removed]",
      "text/plain": [
       "<Figure size 1080x216 with 1 Axes>"
      ]
     },
     "metadata": {
      "needs_background": "light"
     },
     "output_type": "display_data"
    }
   ],
   "source": [
    "plt.figure(figsize=(15,3))\n",
    "sns.barplot(data=cust_group,x='Age',y='Spending_Score',hue='Gender')"
   ]
  },
  {
   "cell_type": "code",
   "execution_count": 26,
   "metadata": {
    "execution": {
     "iopub.execute_input": "2021-01-14T15:33:13.665972Z",
     "iopub.status.busy": "2021-01-14T15:33:13.664893Z",
     "iopub.status.idle": "2021-01-14T15:33:16.242846Z",
     "shell.execute_reply": "2021-01-14T15:33:16.243275Z"
    },
    "papermill": {
     "duration": 2.632643,
     "end_time": "2021-01-14T15:33:16.243431",
     "exception": false,
     "start_time": "2021-01-14T15:33:13.610788",
     "status": "completed"
    },
    "tags": []
   },
   "outputs": [
    {
     "data": {
      "text/plain": [
       "<seaborn.axisgrid.PairGrid at 0x7ff672908790>"
      ]
     },
     "execution_count": 26,
     "metadata": {},
     "output_type": "execute_result"
    },
    {
     "data": {
      "image/png": "[encoded data removed]",
      "text/plain": [
       "<Figure size 612.125x540 with 12 Axes>"
      ]
     },
     "metadata": {
      "needs_background": "light"
     },
     "output_type": "display_data"
    }
   ],
   "source": [
    "sns.pairplot(data=cust_group, hue='Gender')"
   ]
  },
  {
   "cell_type": "code",
   "execution_count": 27,
   "metadata": {
    "execution": {
     "iopub.execute_input": "2021-01-14T15:33:16.331436Z",
     "iopub.status.busy": "2021-01-14T15:33:16.330723Z",
     "iopub.status.idle": "2021-01-14T15:33:16.333768Z",
     "shell.execute_reply": "2021-01-14T15:33:16.334232Z"
    },
    "papermill": {
     "duration": 0.053747,
     "end_time": "2021-01-14T15:33:16.334368",
     "exception": false,
     "start_time": "2021-01-14T15:33:16.280621",
     "status": "completed"
    },
    "tags": []
   },
   "outputs": [
    {
     "data": {
      "text/html": [
       "<div>\n",
       "<style scoped>\n",
       "    .dataframe tbody tr th:only-of-type {\n",
       "        vertical-align: middle;\n",
       "    }\n",
       "\n",
       "    .dataframe tbody tr th {\n",
       "        vertical-align: top;\n",
       "    }\n",
       "\n",
       "    .dataframe thead th {\n",
       "        text-align: right;\n",
       "    }\n",
       "</style>\n",
       "<table border=\"1\" class=\"dataframe\">\n",
       "  <thead>\n",
       "    <tr style=\"text-align: right;\">\n",
       "      <th></th>\n",
       "      <th>Gender</th>\n",
       "      <th>Age</th>\n",
       "      <th>Annual_Income</th>\n",
       "      <th>Spending_Score</th>\n",
       "    </tr>\n",
       "  </thead>\n",
       "  <tbody>\n",
       "    <tr>\n",
       "      <th>0</th>\n",
       "      <td>Male</td>\n",
       "      <td>19</td>\n",
       "      <td>15</td>\n",
       "      <td>39</td>\n",
       "    </tr>\n",
       "    <tr>\n",
       "      <th>1</th>\n",
       "      <td>Male</td>\n",
       "      <td>21</td>\n",
       "      <td>15</td>\n",
       "      <td>81</td>\n",
       "    </tr>\n",
       "    <tr>\n",
       "      <th>2</th>\n",
       "      <td>Female</td>\n",
       "      <td>20</td>\n",
       "      <td>16</td>\n",
       "      <td>6</td>\n",
       "    </tr>\n",
       "    <tr>\n",
       "      <th>3</th>\n",
       "      <td>Female</td>\n",
       "      <td>23</td>\n",
       "      <td>16</td>\n",
       "      <td>77</td>\n",
       "    </tr>\n",
       "    <tr>\n",
       "      <th>4</th>\n",
       "      <td>Female</td>\n",
       "      <td>31</td>\n",
       "      <td>17</td>\n",
       "      <td>40</td>\n",
       "    </tr>\n",
       "    <tr>\n",
       "      <th>...</th>\n",
       "      <td>...</td>\n",
       "      <td>...</td>\n",
       "      <td>...</td>\n",
       "      <td>...</td>\n",
       "    </tr>\n",
       "    <tr>\n",
       "      <th>195</th>\n",
       "      <td>Female</td>\n",
       "      <td>35</td>\n",
       "      <td>120</td>\n",
       "      <td>79</td>\n",
       "    </tr>\n",
       "    <tr>\n",
       "      <th>196</th>\n",
       "      <td>Female</td>\n",
       "      <td>45</td>\n",
       "      <td>126</td>\n",
       "      <td>28</td>\n",
       "    </tr>\n",
       "    <tr>\n",
       "      <th>197</th>\n",
       "      <td>Male</td>\n",
       "      <td>32</td>\n",
       "      <td>126</td>\n",
       "      <td>74</td>\n",
       "    </tr>\n",
       "    <tr>\n",
       "      <th>198</th>\n",
       "      <td>Male</td>\n",
       "      <td>32</td>\n",
       "      <td>137</td>\n",
       "      <td>18</td>\n",
       "    </tr>\n",
       "    <tr>\n",
       "      <th>199</th>\n",
       "      <td>Male</td>\n",
       "      <td>30</td>\n",
       "      <td>137</td>\n",
       "      <td>83</td>\n",
       "    </tr>\n",
       "  </tbody>\n",
       "</table>\n",
       "<p>200 rows × 4 columns</p>\n",
       "</div>"
      ],
      "text/plain": [
       "     Gender  Age  Annual_Income  Spending_Score\n",
       "0      Male   19             15              39\n",
       "1      Male   21             15              81\n",
       "2    Female   20             16               6\n",
       "3    Female   23             16              77\n",
       "4    Female   31             17              40\n",
       "..      ...  ...            ...             ...\n",
       "195  Female   35            120              79\n",
       "196  Female   45            126              28\n",
       "197    Male   32            126              74\n",
       "198    Male   32            137              18\n",
       "199    Male   30            137              83\n",
       "\n",
       "[200 rows x 4 columns]"
      ]
     },
     "execution_count": 27,
     "metadata": {},
     "output_type": "execute_result"
    }
   ],
   "source": [
    "df.drop(columns=['Annual_Income_cat'],inplace= True)  #Dropping columns not needed\n",
    "df\n"
   ]
  },
  {
   "cell_type": "code",
   "execution_count": 28,
   "metadata": {
    "execution": {
     "iopub.execute_input": "2021-01-14T15:33:16.413757Z",
     "iopub.status.busy": "2021-01-14T15:33:16.412997Z",
     "iopub.status.idle": "2021-01-14T15:33:16.417313Z",
     "shell.execute_reply": "2021-01-14T15:33:16.417820Z"
    },
    "papermill": {
     "duration": 0.045805,
     "end_time": "2021-01-14T15:33:16.417959",
     "exception": false,
     "start_time": "2021-01-14T15:33:16.372154",
     "status": "completed"
    },
    "tags": []
   },
   "outputs": [],
   "source": [
    "from sklearn.preprocessing import LabelEncoder as le\n",
    "enc=le()"
   ]
  },
  {
   "cell_type": "code",
   "execution_count": 29,
   "metadata": {
    "execution": {
     "iopub.execute_input": "2021-01-14T15:33:16.503452Z",
     "iopub.status.busy": "2021-01-14T15:33:16.502684Z",
     "iopub.status.idle": "2021-01-14T15:33:16.505440Z",
     "shell.execute_reply": "2021-01-14T15:33:16.505952Z"
    },
    "papermill": {
     "duration": 0.050244,
     "end_time": "2021-01-14T15:33:16.506082",
     "exception": false,
     "start_time": "2021-01-14T15:33:16.455838",
     "status": "completed"
    },
    "tags": []
   },
   "outputs": [
    {
     "data": {
      "text/html": [
       "<div>\n",
       "<style scoped>\n",
       "    .dataframe tbody tr th:only-of-type {\n",
       "        vertical-align: middle;\n",
       "    }\n",
       "\n",
       "    .dataframe tbody tr th {\n",
       "        vertical-align: top;\n",
       "    }\n",
       "\n",
       "    .dataframe thead th {\n",
       "        text-align: right;\n",
       "    }\n",
       "</style>\n",
       "<table border=\"1\" class=\"dataframe\">\n",
       "  <thead>\n",
       "    <tr style=\"text-align: right;\">\n",
       "      <th></th>\n",
       "      <th>Gender</th>\n",
       "      <th>Age</th>\n",
       "      <th>Annual_Income</th>\n",
       "      <th>Spending_Score</th>\n",
       "    </tr>\n",
       "  </thead>\n",
       "  <tbody>\n",
       "    <tr>\n",
       "      <th>0</th>\n",
       "      <td>1</td>\n",
       "      <td>19</td>\n",
       "      <td>15</td>\n",
       "      <td>39</td>\n",
       "    </tr>\n",
       "    <tr>\n",
       "      <th>1</th>\n",
       "      <td>1</td>\n",
       "      <td>21</td>\n",
       "      <td>15</td>\n",
       "      <td>81</td>\n",
       "    </tr>\n",
       "    <tr>\n",
       "      <th>2</th>\n",
       "      <td>0</td>\n",
       "      <td>20</td>\n",
       "      <td>16</td>\n",
       "      <td>6</td>\n",
       "    </tr>\n",
       "    <tr>\n",
       "      <th>3</th>\n",
       "      <td>0</td>\n",
       "      <td>23</td>\n",
       "      <td>16</td>\n",
       "      <td>77</td>\n",
       "    </tr>\n",
       "    <tr>\n",
       "      <th>4</th>\n",
       "      <td>0</td>\n",
       "      <td>31</td>\n",
       "      <td>17</td>\n",
       "      <td>40</td>\n",
       "    </tr>\n",
       "  </tbody>\n",
       "</table>\n",
       "</div>"
      ],
      "text/plain": [
       "   Gender  Age  Annual_Income  Spending_Score\n",
       "0       1   19             15              39\n",
       "1       1   21             15              81\n",
       "2       0   20             16               6\n",
       "3       0   23             16              77\n",
       "4       0   31             17              40"
      ]
     },
     "execution_count": 29,
     "metadata": {},
     "output_type": "execute_result"
    }
   ],
   "source": [
    "df['Gender']=enc.fit_transform(df['Gender'])\n",
    "df.head()"
   ]
  },
  {
   "cell_type": "code",
   "execution_count": 30,
   "metadata": {
    "execution": {
     "iopub.execute_input": "2021-01-14T15:33:16.586374Z",
     "iopub.status.busy": "2021-01-14T15:33:16.585716Z",
     "iopub.status.idle": "2021-01-14T15:33:17.292048Z",
     "shell.execute_reply": "2021-01-14T15:33:17.292621Z"
    },
    "papermill": {
     "duration": 0.748514,
     "end_time": "2021-01-14T15:33:17.292759",
     "exception": false,
     "start_time": "2021-01-14T15:33:16.544245",
     "status": "completed"
    },
    "tags": []
   },
   "outputs": [],
   "source": [
    "find_cls=[]\n",
    "for i in range(1,15):\n",
    "    kmean = KMeans(n_clusters=i)\n",
    "    kmean.fit(df)\n",
    "    find_cls.append(kmean.inertia_)\n"
   ]
  },
  {
   "cell_type": "code",
   "execution_count": 31,
   "metadata": {
    "execution": {
     "iopub.execute_input": "2021-01-14T15:33:17.372459Z",
     "iopub.status.busy": "2021-01-14T15:33:17.371877Z",
     "iopub.status.idle": "2021-01-14T15:33:17.377015Z",
     "shell.execute_reply": "2021-01-14T15:33:17.377638Z"
    },
    "papermill": {
     "duration": 0.046766,
     "end_time": "2021-01-14T15:33:17.377775",
     "exception": false,
     "start_time": "2021-01-14T15:33:17.331009",
     "status": "completed"
    },
    "tags": []
   },
   "outputs": [
    {
     "data": {
      "text/plain": [
       "[308862.06000000006,\n",
       " 212889.44245524294,\n",
       " 143391.59236035674,\n",
       " 104414.67534220174,\n",
       " 75399.61541401486,\n",
       " 58348.64136331505,\n",
       " 51132.70321257687,\n",
       " 44355.31351771352,\n",
       " 41153.34356060605,\n",
       " 37256.71946084511,\n",
       " 34999.11966366966,\n",
       " 32442.532530687713,\n",
       " 30240.101643766855,\n",
       " 27948.994181961825]"
      ]
     },
     "execution_count": 31,
     "metadata": {},
     "output_type": "execute_result"
    }
   ],
   "source": [
    "find_cls"
   ]
  },
  {
   "cell_type": "code",
   "execution_count": 32,
   "metadata": {
    "execution": {
     "iopub.execute_input": "2021-01-14T15:33:17.460245Z",
     "iopub.status.busy": "2021-01-14T15:33:17.459636Z",
     "iopub.status.idle": "2021-01-14T15:33:17.635724Z",
     "shell.execute_reply": "2021-01-14T15:33:17.636194Z"
    },
    "papermill": {
     "duration": 0.219129,
     "end_time": "2021-01-14T15:33:17.636357",
     "exception": false,
     "start_time": "2021-01-14T15:33:17.417228",
     "status": "completed"
    },
    "tags": []
   },
   "outputs": [
    {
     "data": {
      "text/plain": [
       "<function matplotlib.pyplot.show(*args, **kw)>"
      ]
     },
     "execution_count": 32,
     "metadata": {},
     "output_type": "execute_result"
    },
    {
     "data": {
      "image/png": "[encoded data removed]",
      "text/plain": [
       "<Figure size 864x360 with 1 Axes>"
      ]
     },
     "metadata": {
      "needs_background": "light"
     },
     "output_type": "display_data"
    }
   ],
   "source": [
    "fig, axs = plt.subplots(figsize=(12,5))\n",
    "sns.lineplot(range(1,15),find_cls, ax=axs,marker='X')\n",
    "axs.axvline(5, ls=\"--\", c=\"crimson\") # CRIMSON is color, ls - line style\n",
    "axs.axvline(6, ls=\"--\", c=\"crimson\")\n",
    "plt.grid() #  square lines in back ground\n",
    "plt.show"
   ]
  },
  {
   "cell_type": "code",
   "execution_count": 33,
   "metadata": {
    "execution": {
     "iopub.execute_input": "2021-01-14T15:33:17.719733Z",
     "iopub.status.busy": "2021-01-14T15:33:17.719085Z",
     "iopub.status.idle": "2021-01-14T15:33:17.771397Z",
     "shell.execute_reply": "2021-01-14T15:33:17.770733Z"
    },
    "papermill": {
     "duration": 0.095166,
     "end_time": "2021-01-14T15:33:17.771513",
     "exception": false,
     "start_time": "2021-01-14T15:33:17.676347",
     "status": "completed"
    },
    "tags": []
   },
   "outputs": [
    {
     "data": {
      "text/plain": [
       "KMeans(n_clusters=5)"
      ]
     },
     "execution_count": 33,
     "metadata": {},
     "output_type": "execute_result"
    }
   ],
   "source": [
    "kmean=KMeans(n_clusters=5) # we found that best clusters are 5\n",
    "kmean.fit(df)"
   ]
  },
  {
   "cell_type": "code",
   "execution_count": 34,
   "metadata": {
    "execution": {
     "iopub.execute_input": "2021-01-14T15:33:17.858822Z",
     "iopub.status.busy": "2021-01-14T15:33:17.857812Z",
     "iopub.status.idle": "2021-01-14T15:33:17.862623Z",
     "shell.execute_reply": "2021-01-14T15:33:17.861862Z"
    },
    "papermill": {
     "duration": 0.05043,
     "end_time": "2021-01-14T15:33:17.862786",
     "exception": false,
     "start_time": "2021-01-14T15:33:17.812356",
     "status": "completed"
    },
    "tags": []
   },
   "outputs": [
    {
     "data": {
      "text/plain": [
       "75399.61541401486"
      ]
     },
     "execution_count": 34,
     "metadata": {},
     "output_type": "execute_result"
    }
   ],
   "source": [
    "kmean.inertia_"
   ]
  },
  {
   "cell_type": "code",
   "execution_count": 35,
   "metadata": {
    "execution": {
     "iopub.execute_input": "2021-01-14T15:33:17.954105Z",
     "iopub.status.busy": "2021-01-14T15:33:17.953064Z",
     "iopub.status.idle": "2021-01-14T15:33:17.957422Z",
     "shell.execute_reply": "2021-01-14T15:33:17.956731Z"
    },
    "papermill": {
     "duration": 0.051646,
     "end_time": "2021-01-14T15:33:17.957532",
     "exception": false,
     "start_time": "2021-01-14T15:33:17.905886",
     "status": "completed"
    },
    "tags": []
   },
   "outputs": [
    {
     "data": {
      "text/plain": [
       "array([[ 0.46153846, 32.69230769, 86.53846154, 82.12820513],\n",
       "       [ 0.52777778, 40.66666667, 87.75      , 17.58333333],\n",
       "       [ 0.39130435, 25.52173913, 26.30434783, 78.56521739],\n",
       "       [ 0.41772152, 43.08860759, 55.29113924, 49.56962025],\n",
       "       [ 0.39130435, 45.2173913 , 26.30434783, 20.91304348]])"
      ]
     },
     "execution_count": 35,
     "metadata": {},
     "output_type": "execute_result"
    }
   ],
   "source": [
    "kmean.cluster_centers_"
   ]
  },
  {
   "cell_type": "code",
   "execution_count": 36,
   "metadata": {
    "execution": {
     "iopub.execute_input": "2021-01-14T15:33:18.045895Z",
     "iopub.status.busy": "2021-01-14T15:33:18.045228Z",
     "iopub.status.idle": "2021-01-14T15:33:18.047302Z",
     "shell.execute_reply": "2021-01-14T15:33:18.047752Z"
    },
    "papermill": {
     "duration": 0.049244,
     "end_time": "2021-01-14T15:33:18.047895",
     "exception": false,
     "start_time": "2021-01-14T15:33:17.998651",
     "status": "completed"
    },
    "tags": []
   },
   "outputs": [],
   "source": [
    "clust_centers=kmean.cluster_centers_"
   ]
  },
  {
   "cell_type": "code",
   "execution_count": 37,
   "metadata": {
    "execution": {
     "iopub.execute_input": "2021-01-14T15:33:18.143103Z",
     "iopub.status.busy": "2021-01-14T15:33:18.142515Z",
     "iopub.status.idle": "2021-01-14T15:33:18.145530Z",
     "shell.execute_reply": "2021-01-14T15:33:18.146023Z"
    },
    "papermill": {
     "duration": 0.055665,
     "end_time": "2021-01-14T15:33:18.146264",
     "exception": false,
     "start_time": "2021-01-14T15:33:18.090599",
     "status": "completed"
    },
    "tags": []
   },
   "outputs": [
    {
     "data": {
      "text/html": [
       "<div>\n",
       "<style scoped>\n",
       "    .dataframe tbody tr th:only-of-type {\n",
       "        vertical-align: middle;\n",
       "    }\n",
       "\n",
       "    .dataframe tbody tr th {\n",
       "        vertical-align: top;\n",
       "    }\n",
       "\n",
       "    .dataframe thead th {\n",
       "        text-align: right;\n",
       "    }\n",
       "</style>\n",
       "<table border=\"1\" class=\"dataframe\">\n",
       "  <thead>\n",
       "    <tr style=\"text-align: right;\">\n",
       "      <th></th>\n",
       "      <th>Gender</th>\n",
       "      <th>Age</th>\n",
       "      <th>Annual_Income</th>\n",
       "      <th>Spending_Score</th>\n",
       "    </tr>\n",
       "  </thead>\n",
       "  <tbody>\n",
       "    <tr>\n",
       "      <th>0</th>\n",
       "      <td>1</td>\n",
       "      <td>19</td>\n",
       "      <td>15</td>\n",
       "      <td>39</td>\n",
       "    </tr>\n",
       "    <tr>\n",
       "      <th>1</th>\n",
       "      <td>1</td>\n",
       "      <td>21</td>\n",
       "      <td>15</td>\n",
       "      <td>81</td>\n",
       "    </tr>\n",
       "    <tr>\n",
       "      <th>2</th>\n",
       "      <td>0</td>\n",
       "      <td>20</td>\n",
       "      <td>16</td>\n",
       "      <td>6</td>\n",
       "    </tr>\n",
       "    <tr>\n",
       "      <th>3</th>\n",
       "      <td>0</td>\n",
       "      <td>23</td>\n",
       "      <td>16</td>\n",
       "      <td>77</td>\n",
       "    </tr>\n",
       "    <tr>\n",
       "      <th>4</th>\n",
       "      <td>0</td>\n",
       "      <td>31</td>\n",
       "      <td>17</td>\n",
       "      <td>40</td>\n",
       "    </tr>\n",
       "  </tbody>\n",
       "</table>\n",
       "</div>"
      ],
      "text/plain": [
       "   Gender  Age  Annual_Income  Spending_Score\n",
       "0       1   19             15              39\n",
       "1       1   21             15              81\n",
       "2       0   20             16               6\n",
       "3       0   23             16              77\n",
       "4       0   31             17              40"
      ]
     },
     "execution_count": 37,
     "metadata": {},
     "output_type": "execute_result"
    }
   ],
   "source": [
    "df.head()"
   ]
  },
  {
   "cell_type": "code",
   "execution_count": 38,
   "metadata": {
    "execution": {
     "iopub.execute_input": "2021-01-14T15:33:18.233841Z",
     "iopub.status.busy": "2021-01-14T15:33:18.233102Z",
     "iopub.status.idle": "2021-01-14T15:33:18.238270Z",
     "shell.execute_reply": "2021-01-14T15:33:18.238730Z"
    },
    "papermill": {
     "duration": 0.050329,
     "end_time": "2021-01-14T15:33:18.238864",
     "exception": false,
     "start_time": "2021-01-14T15:33:18.188535",
     "status": "completed"
    },
    "tags": []
   },
   "outputs": [
    {
     "data": {
      "text/plain": [
       "array([4, 2, 4, 2, 4, 2, 4, 2, 4, 2, 4, 2, 4, 2, 4, 2, 4, 2, 4, 2, 4, 2,\n",
       "       4, 2, 4, 2, 4, 2, 4, 2, 4, 2, 4, 2, 4, 2, 4, 2, 4, 2, 4, 2, 4, 2,\n",
       "       4, 2, 3, 3, 3, 3, 3, 3, 3, 3, 3, 3, 3, 3, 3, 3, 3, 3, 3, 3, 3, 3,\n",
       "       3, 3, 3, 3, 3, 3, 3, 3, 3, 3, 3, 3, 3, 3, 3, 3, 3, 3, 3, 3, 3, 3,\n",
       "       3, 3, 3, 3, 3, 3, 3, 3, 3, 3, 3, 3, 3, 3, 3, 3, 3, 3, 3, 3, 3, 3,\n",
       "       3, 3, 3, 3, 3, 3, 3, 3, 3, 3, 3, 3, 3, 0, 1, 0, 3, 0, 1, 0, 1, 0,\n",
       "       1, 0, 1, 0, 1, 0, 1, 0, 1, 0, 3, 0, 1, 0, 1, 0, 1, 0, 1, 0, 1, 0,\n",
       "       1, 0, 1, 0, 1, 0, 1, 0, 1, 0, 1, 0, 1, 0, 1, 0, 1, 0, 1, 0, 1, 0,\n",
       "       1, 0, 1, 0, 1, 0, 1, 0, 1, 0, 1, 0, 1, 0, 1, 0, 1, 0, 1, 0, 1, 0,\n",
       "       1, 0], dtype=int32)"
      ]
     },
     "execution_count": 38,
     "metadata": {},
     "output_type": "execute_result"
    }
   ],
   "source": [
    "kmean.labels_"
   ]
  },
  {
   "cell_type": "code",
   "execution_count": 39,
   "metadata": {
    "execution": {
     "iopub.execute_input": "2021-01-14T15:33:18.326537Z",
     "iopub.status.busy": "2021-01-14T15:33:18.325908Z",
     "iopub.status.idle": "2021-01-14T15:33:18.338834Z",
     "shell.execute_reply": "2021-01-14T15:33:18.338376Z"
    },
    "papermill": {
     "duration": 0.057671,
     "end_time": "2021-01-14T15:33:18.338943",
     "exception": false,
     "start_time": "2021-01-14T15:33:18.281272",
     "status": "completed"
    },
    "tags": []
   },
   "outputs": [
    {
     "data": {
      "text/html": [
       "<div>\n",
       "<style scoped>\n",
       "    .dataframe tbody tr th:only-of-type {\n",
       "        vertical-align: middle;\n",
       "    }\n",
       "\n",
       "    .dataframe tbody tr th {\n",
       "        vertical-align: top;\n",
       "    }\n",
       "\n",
       "    .dataframe thead th {\n",
       "        text-align: right;\n",
       "    }\n",
       "</style>\n",
       "<table border=\"1\" class=\"dataframe\">\n",
       "  <thead>\n",
       "    <tr style=\"text-align: right;\">\n",
       "      <th></th>\n",
       "      <th>Gender</th>\n",
       "      <th>Age</th>\n",
       "      <th>Annual_Income</th>\n",
       "      <th>Spending_Score</th>\n",
       "      <th>center_cluster</th>\n",
       "    </tr>\n",
       "  </thead>\n",
       "  <tbody>\n",
       "    <tr>\n",
       "      <th>0</th>\n",
       "      <td>1</td>\n",
       "      <td>19</td>\n",
       "      <td>15</td>\n",
       "      <td>39</td>\n",
       "      <td>4</td>\n",
       "    </tr>\n",
       "    <tr>\n",
       "      <th>1</th>\n",
       "      <td>1</td>\n",
       "      <td>21</td>\n",
       "      <td>15</td>\n",
       "      <td>81</td>\n",
       "      <td>2</td>\n",
       "    </tr>\n",
       "    <tr>\n",
       "      <th>2</th>\n",
       "      <td>0</td>\n",
       "      <td>20</td>\n",
       "      <td>16</td>\n",
       "      <td>6</td>\n",
       "      <td>4</td>\n",
       "    </tr>\n",
       "    <tr>\n",
       "      <th>3</th>\n",
       "      <td>0</td>\n",
       "      <td>23</td>\n",
       "      <td>16</td>\n",
       "      <td>77</td>\n",
       "      <td>2</td>\n",
       "    </tr>\n",
       "    <tr>\n",
       "      <th>4</th>\n",
       "      <td>0</td>\n",
       "      <td>31</td>\n",
       "      <td>17</td>\n",
       "      <td>40</td>\n",
       "      <td>4</td>\n",
       "    </tr>\n",
       "    <tr>\n",
       "      <th>...</th>\n",
       "      <td>...</td>\n",
       "      <td>...</td>\n",
       "      <td>...</td>\n",
       "      <td>...</td>\n",
       "      <td>...</td>\n",
       "    </tr>\n",
       "    <tr>\n",
       "      <th>195</th>\n",
       "      <td>0</td>\n",
       "      <td>35</td>\n",
       "      <td>120</td>\n",
       "      <td>79</td>\n",
       "      <td>0</td>\n",
       "    </tr>\n",
       "    <tr>\n",
       "      <th>196</th>\n",
       "      <td>0</td>\n",
       "      <td>45</td>\n",
       "      <td>126</td>\n",
       "      <td>28</td>\n",
       "      <td>1</td>\n",
       "    </tr>\n",
       "    <tr>\n",
       "      <th>197</th>\n",
       "      <td>1</td>\n",
       "      <td>32</td>\n",
       "      <td>126</td>\n",
       "      <td>74</td>\n",
       "      <td>0</td>\n",
       "    </tr>\n",
       "    <tr>\n",
       "      <th>198</th>\n",
       "      <td>1</td>\n",
       "      <td>32</td>\n",
       "      <td>137</td>\n",
       "      <td>18</td>\n",
       "      <td>1</td>\n",
       "    </tr>\n",
       "    <tr>\n",
       "      <th>199</th>\n",
       "      <td>1</td>\n",
       "      <td>30</td>\n",
       "      <td>137</td>\n",
       "      <td>83</td>\n",
       "      <td>0</td>\n",
       "    </tr>\n",
       "  </tbody>\n",
       "</table>\n",
       "<p>200 rows × 5 columns</p>\n",
       "</div>"
      ],
      "text/plain": [
       "     Gender  Age  Annual_Income  Spending_Score  center_cluster\n",
       "0         1   19             15              39               4\n",
       "1         1   21             15              81               2\n",
       "2         0   20             16               6               4\n",
       "3         0   23             16              77               2\n",
       "4         0   31             17              40               4\n",
       "..      ...  ...            ...             ...             ...\n",
       "195       0   35            120              79               0\n",
       "196       0   45            126              28               1\n",
       "197       1   32            126              74               0\n",
       "198       1   32            137              18               1\n",
       "199       1   30            137              83               0\n",
       "\n",
       "[200 rows x 5 columns]"
      ]
     },
     "execution_count": 39,
     "metadata": {},
     "output_type": "execute_result"
    }
   ],
   "source": [
    "df['center_cluster']=kmean.labels_\n",
    "df"
   ]
  },
  {
   "cell_type": "code",
   "execution_count": 40,
   "metadata": {
    "execution": {
     "iopub.execute_input": "2021-01-14T15:33:18.429881Z",
     "iopub.status.busy": "2021-01-14T15:33:18.428927Z",
     "iopub.status.idle": "2021-01-14T15:33:18.812300Z",
     "shell.execute_reply": "2021-01-14T15:33:18.812770Z"
    },
    "papermill": {
     "duration": 0.429859,
     "end_time": "2021-01-14T15:33:18.812916",
     "exception": false,
     "start_time": "2021-01-14T15:33:18.383057",
     "status": "completed"
    },
    "tags": []
   },
   "outputs": [
    {
     "data": {
      "text/plain": [
       "<matplotlib.axes._subplots.AxesSubplot at 0x7ff670140bd0>"
      ]
     },
     "execution_count": 40,
     "metadata": {},
     "output_type": "execute_result"
    },
    {
     "data": {
      "image/png": "[encoded data removed]",
      "text/plain": [
       "<Figure size 1080x360 with 2 Axes>"
      ]
     },
     "metadata": {
      "needs_background": "light"
     },
     "output_type": "display_data"
    }
   ],
   "source": [
    "fig,(ax1,ax2)=plt.subplots(nrows=1, ncols=2,figsize=(15,5))\n",
    "sns.scatterplot(data = df, x = 'Age', y = 'Spending_Score', ax=ax1, hue = 'center_cluster',palette='Set1')  # good color use palette =1\n",
    "sns.scatterplot(data = df, x='Annual_Income', y ='Spending_Score', ax=ax2, hue='center_cluster',palette='Set1')"
   ]
  },
  {
   "cell_type": "code",
   "execution_count": 41,
   "metadata": {
    "execution": {
     "iopub.execute_input": "2021-01-14T15:33:18.915898Z",
     "iopub.status.busy": "2021-01-14T15:33:18.915059Z",
     "iopub.status.idle": "2021-01-14T15:33:19.224198Z",
     "shell.execute_reply": "2021-01-14T15:33:19.223581Z"
    },
    "papermill": {
     "duration": 0.36578,
     "end_time": "2021-01-14T15:33:19.224310",
     "exception": false,
     "start_time": "2021-01-14T15:33:18.858530",
     "status": "completed"
    },
    "tags": []
   },
   "outputs": [
    {
     "data": {
      "text/plain": [
       "<matplotlib.collections.PathCollection at 0x7ff669f7e590>"
      ]
     },
     "execution_count": 41,
     "metadata": {},
     "output_type": "execute_result"
    },
    {
     "data": {
      "image/png": "[encoded data removed]",
      "text/plain": [
       "<Figure size 1080x360 with 2 Axes>"
      ]
     },
     "metadata": {
      "needs_background": "light"
     },
     "output_type": "display_data"
    }
   ],
   "source": [
    "fig,(ax1,ax2)=plt.subplots(nrows=1, ncols=2,figsize=(15,5))\n",
    "\n",
    "ax1.scatter(kmean.cluster_centers_[:,1], kmean.cluster_centers_[:,3],marker='X',color='red')      \n",
    "ax2.scatter(kmean.cluster_centers_[:,2], kmean.cluster_centers_[:,3],marker='X',color='red')"
   ]
  },
  {
   "cell_type": "code",
   "execution_count": null,
   "metadata": {
    "papermill": {
     "duration": 0.045956,
     "end_time": "2021-01-14T15:33:19.316945",
     "exception": false,
     "start_time": "2021-01-14T15:33:19.270989",
     "status": "completed"
    },
    "tags": []
   },
   "outputs": [],
   "source": []
  }
 ],
 "metadata": {
  "kernelspec": {
   "display_name": "Python 3",
   "language": "python",
   "name": "python3"
  },
  "language_info": {
   "codemirror_mode": {
    "name": "ipython",
    "version": 3
   },
   "file_extension": ".py",
   "mimetype": "text/x-python",
   "name": "python",
   "nbconvert_exporter": "python",
   "pygments_lexer": "ipython3",
   "version": "3.7.6"
  },
  "papermill": {
   "duration": 19.085956,
   "end_time": "2021-01-14T15:33:19.475063",
   "environment_variables": {},
   "exception": null,
   "input_path": "__notebook__.ipynb",
   "output_path": "__notebook__.ipynb",
   "parameters": {},
   "start_time": "2021-01-14T15:33:00.389107",
   "version": "2.1.0"
  }
 },
 "nbformat": 4,
 "nbformat_minor": 4
}
